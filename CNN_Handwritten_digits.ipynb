{
  "nbformat": 4,
  "nbformat_minor": 0,
  "metadata": {
    "colab": {
      "name": "CNN_Handwritten_digits.ipynb",
      "provenance": [],
      "authorship_tag": "ABX9TyO/zrZBd7HJpP1oWCA3HjoH",
      "include_colab_link": true
    },
    "kernelspec": {
      "name": "python3",
      "display_name": "Python 3"
    },
    "accelerator": "GPU"
  },
  "cells": [
    {
      "cell_type": "markdown",
      "metadata": {
        "id": "view-in-github",
        "colab_type": "text"
      },
      "source": [
        "<a href=\"https://colab.research.google.com/github/seyedalirezaabbaspour/Recognize-Persian-handwritten-numbers-with-keras/blob/main/CNN_Handwritten_digits.ipynb\" target=\"_parent\"><img src=\"https://colab.research.google.com/assets/colab-badge.svg\" alt=\"Open In Colab\"/></a>"
      ]
    },
    {
      "cell_type": "code",
      "metadata": {
        "colab": {
          "base_uri": "https://localhost:8080/"
        },
        "id": "bPg8kM0_7zMk",
        "outputId": "c3f0273f-f691-4544-d9e1-cc8b6455faef"
      },
      "source": [
        "! git clone --recursive [GITHUB LINK REPO]    "
      ],
      "execution_count": 1,
      "outputs": [
        {
          "output_type": "stream",
          "text": [
            "fatal: Too many arguments.\n",
            "\n",
            "usage: git clone [<options>] [--] <repo> [<dir>]\n",
            "\n",
            "    -v, --verbose         be more verbose\n",
            "    -q, --quiet           be more quiet\n",
            "    --progress            force progress reporting\n",
            "    -n, --no-checkout     don't create a checkout\n",
            "    --bare                create a bare repository\n",
            "    --mirror              create a mirror repository (implies bare)\n",
            "    -l, --local           to clone from a local repository\n",
            "    --no-hardlinks        don't use local hardlinks, always copy\n",
            "    -s, --shared          setup as shared repository\n",
            "    --recurse-submodules[=<pathspec>]\n",
            "                          initialize submodules in the clone\n",
            "    -j, --jobs <n>        number of submodules cloned in parallel\n",
            "    --template <template-directory>\n",
            "                          directory from which templates will be used\n",
            "    --reference <repo>    reference repository\n",
            "    --reference-if-able <repo>\n",
            "                          reference repository\n",
            "    --dissociate          use --reference only while cloning\n",
            "    -o, --origin <name>   use <name> instead of 'origin' to track upstream\n",
            "    -b, --branch <branch>\n",
            "                          checkout <branch> instead of the remote's HEAD\n",
            "    -u, --upload-pack <path>\n",
            "                          path to git-upload-pack on the remote\n",
            "    --depth <depth>       create a shallow clone of that depth\n",
            "    --shallow-since <time>\n",
            "                          create a shallow clone since a specific time\n",
            "    --shallow-exclude <revision>\n",
            "                          deepen history of shallow clone, excluding rev\n",
            "    --single-branch       clone only one branch, HEAD or --branch\n",
            "    --no-tags             don't clone any tags, and make later fetches not to follow them\n",
            "    --shallow-submodules  any cloned submodules will be shallow\n",
            "    --separate-git-dir <gitdir>\n",
            "                          separate git dir from working tree\n",
            "    -c, --config <key=value>\n",
            "                          set config inside the new repository\n",
            "    -4, --ipv4            use IPv4 addresses only\n",
            "    -6, --ipv6            use IPv6 addresses only\n",
            "    --filter <args>       object filtering\n",
            "\n"
          ],
          "name": "stdout"
        }
      ]
    },
    {
      "cell_type": "code",
      "metadata": {
        "colab": {
          "base_uri": "https://localhost:8080/"
        },
        "id": "0W_kwLhi7_1a",
        "outputId": "3db1c169-039f-4be2-cf27-b1e1f3bc46fd"
      },
      "source": [
        "! git clone --recursive https://github.com/seyedalirezaabbaspour/Recognize-Persian-handwritten-numbers-with-keras.git"
      ],
      "execution_count": 2,
      "outputs": [
        {
          "output_type": "stream",
          "text": [
            "Cloning into 'Recognize-Persian-handwritten-numbers-with-keras'...\n",
            "remote: Enumerating objects: 79, done.\u001b[K\n",
            "remote: Counting objects: 100% (79/79), done.\u001b[K\n",
            "remote: Compressing objects: 100% (76/76), done.\u001b[K\n",
            "remote: Total 79 (delta 32), reused 0 (delta 0), pack-reused 0\u001b[K\n",
            "Unpacking objects: 100% (79/79), done.\n"
          ],
          "name": "stdout"
        }
      ]
    },
    {
      "cell_type": "code",
      "metadata": {
        "colab": {
          "base_uri": "https://localhost:8080/"
        },
        "id": "T17CecSC8CtA",
        "outputId": "9d9903f6-ad1f-45d6-cfee-8b18909eb58e"
      },
      "source": [
        "!pwd"
      ],
      "execution_count": 3,
      "outputs": [
        {
          "output_type": "stream",
          "text": [
            "/content\n"
          ],
          "name": "stdout"
        }
      ]
    },
    {
      "cell_type": "code",
      "metadata": {
        "colab": {
          "base_uri": "https://localhost:8080/"
        },
        "id": "juuGgb618Cv2",
        "outputId": "c280fc43-1526-4273-d487-481dff84b73b"
      },
      "source": [
        "! ls"
      ],
      "execution_count": 4,
      "outputs": [
        {
          "output_type": "stream",
          "text": [
            "Recognize-Persian-handwritten-numbers-with-keras  sample_data\n"
          ],
          "name": "stdout"
        }
      ]
    },
    {
      "cell_type": "code",
      "metadata": {
        "id": "tPS-a7q98CyU"
      },
      "source": [
        "!mv /content/Recognize-Persian-handwritten-numbers-with-keras/datasets/* /content"
      ],
      "execution_count": 5,
      "outputs": []
    },
    {
      "cell_type": "code",
      "metadata": {
        "colab": {
          "base_uri": "https://localhost:8080/"
        },
        "id": "_hCCj4VI87BI",
        "outputId": "985d4283-a7b2-4e0c-f3b0-85baf408205e"
      },
      "source": [
        "!ls"
      ],
      "execution_count": 6,
      "outputs": [
        {
          "output_type": "stream",
          "text": [
            "Data_hoda_full.mat  Recognize-Persian-handwritten-numbers-with-keras\n",
            "dataset_hoda.py     sample_data\n"
          ],
          "name": "stdout"
        }
      ]
    },
    {
      "cell_type": "markdown",
      "metadata": {
        "id": "zmqMaF5u8Pgy"
      },
      "source": [
        "# **Convolutional Neural Network**\r\n",
        "\r\n",
        "## Classification With CNN On **Hoda**(Persian Handwritten Digits)\r\n",
        "\r\n"
      ]
    },
    {
      "cell_type": "code",
      "metadata": {
        "id": "a8kfQ-xv8VUe"
      },
      "source": [
        "import keras \r\n",
        "from keras import layers\r\n",
        "from keras.models import Sequential\r\n",
        "from keras.layers import Dense, Dropout, Activation, Conv2D, MaxPool2D, Flatten\r\n",
        "from keras.optimizers import Adam\r\n",
        "import numpy as np\r\n",
        "import matplotlib.pyplot as plt\r\n",
        "\r\n",
        "from dataset_hoda import load_hoda"
      ],
      "execution_count": 7,
      "outputs": []
    },
    {
      "cell_type": "code",
      "metadata": {
        "id": "lvvRyKHk8Xd2"
      },
      "source": [
        "#load dataset\r\n",
        "X_train_original, y_train_original, X_test_original, y_test_original = load_hoda(training_sample_size=5000,\r\n",
        "                                                                                 test_sample_size=1000,\r\n",
        "                                                                                 size = 28)\r\n",
        "\r\n",
        "#preprocessing\r\n",
        "\r\n",
        "''' input data in numpy array format'''\r\n",
        "X_train = np.array(X_train_original)\r\n",
        "X_test = np.array(X_test_original)\r\n",
        "\r\n",
        "\r\n",
        "''' normalize our data values to the range [0, 1]'''\r\n",
        "X_train = X_train.astype(\"float32\")\r\n",
        "X_test = X_test.astype(\"float32\")\r\n",
        "\r\n",
        "X_train = X_train/ 255.0\r\n",
        "X_test = X_test  / 255.0\r\n",
        "\r\n",
        "# Reshape to original image shape (n x 784)  ==> (n x 28 x 28 x 1)\r\n",
        "X_train = X_train.reshape(-1, 28, 28, 1)\r\n",
        "X_test = X_test.reshape(-1, 28, 28, 1)\r\n",
        "\r\n",
        "# preprocessing class labels\r\n",
        "y_train = keras.utils.to_categorical(y_train_original)\r\n",
        "y_test = keras.utils.to_categorical(y_test_original)\r\n",
        "\r\n",
        "\r\n",
        "# test and validation set\r\n",
        "X_validation = X_train[:1000]\r\n",
        "y_validation = y_train[:1000]\r\n",
        "\r\n",
        "X_train = X_train[1000:]\r\n",
        "y_train = y_train[1000:]\r\n",
        "\r\n",
        "\r\n",
        "#preprocessing\r\n",
        "\r\n",
        "''' input data in numpy array format'''\r\n",
        "X_train = np.array(X_train_original)\r\n",
        "X_test = np.array(X_test_original)\r\n",
        "\r\n",
        "\r\n",
        "''' normalize our data values to the range [0, 1]'''\r\n",
        "X_train = X_train.astype(\"float32\")\r\n",
        "X_test = X_test.astype(\"float32\")\r\n",
        "\r\n",
        "X_train = X_train/ 255.0\r\n",
        "X_test = X_test  / 255.0\r\n",
        "\r\n",
        "# Reshape to original image shape (n x 784)  ==> (n x 28 x 28 x 1)\r\n",
        "X_train = X_train.reshape(-1, 28, 28, 1)\r\n",
        "X_test = X_test.reshape(-1, 28, 28, 1)\r\n",
        "\r\n",
        "# preprocessing class labels\r\n",
        "y_train = keras.utils.to_categorical(y_train_original)\r\n",
        "y_test = keras.utils.to_categorical(y_test_original)"
      ],
      "execution_count": 8,
      "outputs": []
    },
    {
      "cell_type": "code",
      "metadata": {
        "colab": {
          "base_uri": "https://localhost:8080/"
        },
        "id": "gmrwfxF48ZLV",
        "outputId": "165756de-a3ac-45a4-d830-9337cb3d46f8"
      },
      "source": [
        "# 5. Define model architecture\r\n",
        "\r\n",
        "model = Sequential()\r\n",
        "model.add(Conv2D(64, (4, 4),activation = \"relu\", padding = \"same\" , input_shape = (28, 28, 1)))\r\n",
        "model.add(MaxPool2D(2, 2))\r\n",
        "model.add(Dropout(0.6))\r\n",
        "model.add(Conv2D(128, (4, 4), activation = \"relu\", padding=\"same\"))\r\n",
        "model.add(MaxPool2D(2, 2))\r\n",
        "model.add(Dropout(0.6))\r\n",
        "model.add(Conv2D(256, (4, 4), activation=\"relu\", padding= \"same\"))\r\n",
        "model.add(Dropout(0.6))\r\n",
        "model.add(Conv2D(512, (4, 4), activation=\"relu\", padding= \"same\"))\r\n",
        "model.add(Dropout(0.6))\r\n",
        "model.add(Flatten())\r\n",
        "model.add(Dense(256, activation=\"relu\"))\r\n",
        "model.add(Dropout(0.6))\r\n",
        "model.add(Dense(10, activation=\"softmax\"))\r\n",
        "model.summary()"
      ],
      "execution_count": 9,
      "outputs": [
        {
          "output_type": "stream",
          "text": [
            "Model: \"sequential\"\n",
            "_________________________________________________________________\n",
            "Layer (type)                 Output Shape              Param #   \n",
            "=================================================================\n",
            "conv2d (Conv2D)              (None, 28, 28, 64)        1088      \n",
            "_________________________________________________________________\n",
            "max_pooling2d (MaxPooling2D) (None, 14, 14, 64)        0         \n",
            "_________________________________________________________________\n",
            "dropout (Dropout)            (None, 14, 14, 64)        0         \n",
            "_________________________________________________________________\n",
            "conv2d_1 (Conv2D)            (None, 14, 14, 128)       131200    \n",
            "_________________________________________________________________\n",
            "max_pooling2d_1 (MaxPooling2 (None, 7, 7, 128)         0         \n",
            "_________________________________________________________________\n",
            "dropout_1 (Dropout)          (None, 7, 7, 128)         0         \n",
            "_________________________________________________________________\n",
            "conv2d_2 (Conv2D)            (None, 7, 7, 256)         524544    \n",
            "_________________________________________________________________\n",
            "dropout_2 (Dropout)          (None, 7, 7, 256)         0         \n",
            "_________________________________________________________________\n",
            "conv2d_3 (Conv2D)            (None, 7, 7, 512)         2097664   \n",
            "_________________________________________________________________\n",
            "dropout_3 (Dropout)          (None, 7, 7, 512)         0         \n",
            "_________________________________________________________________\n",
            "flatten (Flatten)            (None, 25088)             0         \n",
            "_________________________________________________________________\n",
            "dense (Dense)                (None, 256)               6422784   \n",
            "_________________________________________________________________\n",
            "dropout_4 (Dropout)          (None, 256)               0         \n",
            "_________________________________________________________________\n",
            "dense_1 (Dense)              (None, 10)                2570      \n",
            "=================================================================\n",
            "Total params: 9,179,850\n",
            "Trainable params: 9,179,850\n",
            "Non-trainable params: 0\n",
            "_________________________________________________________________\n"
          ],
          "name": "stdout"
        }
      ]
    },
    {
      "cell_type": "code",
      "metadata": {
        "colab": {
          "base_uri": "https://localhost:8080/",
          "height": 1000
        },
        "id": "Vv84Jve98av3",
        "outputId": "670eef8b-b00b-43b2-b778-1297c6646a7d"
      },
      "source": [
        "# Compile Model\r\n",
        "adam = Adam(lr = 0.001)\r\n",
        "model.compile(loss = \"categorical_crossentropy\", optimizer=adam, metrics=[\"acc\"])\r\n",
        "\r\n",
        "\r\n",
        "# Fit Model on Training Data\r\n",
        "history = model.fit(X_train, y_train,\r\n",
        "          validation_data=(X_validation, y_validation),\r\n",
        "          shuffle=True, \r\n",
        "          epochs=150, \r\n",
        "          batch_size=200)\r\n",
        "\r\n",
        "loss, acc = model.evaluate(X_test, y_test)\r\n",
        "\r\n",
        "print(f\"\\nTest Loss : {loss:.4f} Test Accuracy : {acc:.4f}\")\r\n",
        "\r\n",
        "acc = history.history[\"acc\"]\r\n",
        "val_acc = history.history[\"val_acc\"]\r\n",
        "\r\n",
        "loss = history.history[\"loss\"]\r\n",
        "val_loss = history.history[\"val_loss\"]\r\n",
        "\r\n",
        "epochs = range(len(acc))\r\n",
        "plt.plot(epochs, acc, \"bo\", label = \"Training Accuracy\")\r\n",
        "plt.plot(epochs, val_acc, \"b\", label = \"Validation Accuracy\")\r\n",
        "plt.title(\"Training and Validation Accuracy\")\r\n",
        "plt.legend()\r\n",
        "\r\n",
        "plt.figure()\r\n",
        "plt.plot(epochs, loss, \"bo\", label = \"Training Loss\")\r\n",
        "plt.plot(epochs, val_loss, \"b\", label = \"Validation Loss\")\r\n",
        "plt.title(\"Training and Validation Loss\")\r\n",
        "plt.legend()\r\n",
        "\r\n",
        "plt.show()"
      ],
      "execution_count": 10,
      "outputs": [
        {
          "output_type": "stream",
          "text": [
            "Epoch 1/150\n",
            "25/25 [==============================] - 35s 158ms/step - loss: 2.0355 - acc: 0.2557 - val_loss: 0.7013 - val_acc: 0.7870\n",
            "Epoch 2/150\n",
            "25/25 [==============================] - 3s 137ms/step - loss: 0.6820 - acc: 0.7623 - val_loss: 0.2113 - val_acc: 0.9480\n",
            "Epoch 3/150\n",
            "25/25 [==============================] - 3s 138ms/step - loss: 0.3201 - acc: 0.8965 - val_loss: 0.1369 - val_acc: 0.9730\n",
            "Epoch 4/150\n",
            "25/25 [==============================] - 3s 137ms/step - loss: 0.2399 - acc: 0.9236 - val_loss: 0.0727 - val_acc: 0.9810\n",
            "Epoch 5/150\n",
            "25/25 [==============================] - 3s 138ms/step - loss: 0.1650 - acc: 0.9506 - val_loss: 0.0579 - val_acc: 0.9810\n",
            "Epoch 6/150\n",
            "25/25 [==============================] - 3s 138ms/step - loss: 0.1310 - acc: 0.9600 - val_loss: 0.0498 - val_acc: 0.9880\n",
            "Epoch 7/150\n",
            "25/25 [==============================] - 3s 138ms/step - loss: 0.1118 - acc: 0.9656 - val_loss: 0.0419 - val_acc: 0.9850\n",
            "Epoch 8/150\n",
            "25/25 [==============================] - 3s 139ms/step - loss: 0.0894 - acc: 0.9727 - val_loss: 0.0412 - val_acc: 0.9880\n",
            "Epoch 9/150\n",
            "25/25 [==============================] - 3s 138ms/step - loss: 0.0908 - acc: 0.9704 - val_loss: 0.0268 - val_acc: 0.9920\n",
            "Epoch 10/150\n",
            "25/25 [==============================] - 3s 138ms/step - loss: 0.0906 - acc: 0.9696 - val_loss: 0.0410 - val_acc: 0.9880\n",
            "Epoch 11/150\n",
            "25/25 [==============================] - 3s 139ms/step - loss: 0.1001 - acc: 0.9677 - val_loss: 0.0222 - val_acc: 0.9920\n",
            "Epoch 12/150\n",
            "25/25 [==============================] - 3s 139ms/step - loss: 0.0772 - acc: 0.9787 - val_loss: 0.0262 - val_acc: 0.9930\n",
            "Epoch 13/150\n",
            "25/25 [==============================] - 3s 139ms/step - loss: 0.0601 - acc: 0.9795 - val_loss: 0.0231 - val_acc: 0.9940\n",
            "Epoch 14/150\n",
            "25/25 [==============================] - 3s 139ms/step - loss: 0.0712 - acc: 0.9753 - val_loss: 0.0130 - val_acc: 0.9960\n",
            "Epoch 15/150\n",
            "25/25 [==============================] - 3s 140ms/step - loss: 0.0489 - acc: 0.9871 - val_loss: 0.0127 - val_acc: 0.9970\n",
            "Epoch 16/150\n",
            "25/25 [==============================] - 3s 140ms/step - loss: 0.0424 - acc: 0.9856 - val_loss: 0.0247 - val_acc: 0.9900\n",
            "Epoch 17/150\n",
            "25/25 [==============================] - 3s 140ms/step - loss: 0.0654 - acc: 0.9810 - val_loss: 0.0113 - val_acc: 0.9970\n",
            "Epoch 18/150\n",
            "25/25 [==============================] - 3s 140ms/step - loss: 0.0482 - acc: 0.9856 - val_loss: 0.0083 - val_acc: 0.9980\n",
            "Epoch 19/150\n",
            "25/25 [==============================] - 3s 141ms/step - loss: 0.0384 - acc: 0.9876 - val_loss: 0.0074 - val_acc: 0.9990\n",
            "Epoch 20/150\n",
            "25/25 [==============================] - 3s 141ms/step - loss: 0.0336 - acc: 0.9885 - val_loss: 0.0099 - val_acc: 0.9980\n",
            "Epoch 21/150\n",
            "25/25 [==============================] - 4s 141ms/step - loss: 0.0431 - acc: 0.9860 - val_loss: 0.0102 - val_acc: 0.9970\n",
            "Epoch 22/150\n",
            "25/25 [==============================] - 4s 141ms/step - loss: 0.0499 - acc: 0.9821 - val_loss: 0.0077 - val_acc: 0.9980\n",
            "Epoch 23/150\n",
            "25/25 [==============================] - 4s 141ms/step - loss: 0.0259 - acc: 0.9916 - val_loss: 0.0059 - val_acc: 0.9990\n",
            "Epoch 24/150\n",
            "25/25 [==============================] - 4s 141ms/step - loss: 0.0337 - acc: 0.9905 - val_loss: 0.0063 - val_acc: 0.9980\n",
            "Epoch 25/150\n",
            "25/25 [==============================] - 4s 141ms/step - loss: 0.0323 - acc: 0.9882 - val_loss: 0.0027 - val_acc: 1.0000\n",
            "Epoch 26/150\n",
            "25/25 [==============================] - 4s 142ms/step - loss: 0.0266 - acc: 0.9917 - val_loss: 0.0031 - val_acc: 0.9990\n",
            "Epoch 27/150\n",
            "25/25 [==============================] - 4s 142ms/step - loss: 0.0218 - acc: 0.9931 - val_loss: 0.0049 - val_acc: 0.9990\n",
            "Epoch 28/150\n",
            "25/25 [==============================] - 4s 141ms/step - loss: 0.0253 - acc: 0.9911 - val_loss: 0.0053 - val_acc: 0.9990\n",
            "Epoch 29/150\n",
            "25/25 [==============================] - 4s 141ms/step - loss: 0.0283 - acc: 0.9892 - val_loss: 0.0075 - val_acc: 0.9960\n",
            "Epoch 30/150\n",
            "25/25 [==============================] - 4s 141ms/step - loss: 0.0293 - acc: 0.9893 - val_loss: 0.0032 - val_acc: 0.9990\n",
            "Epoch 31/150\n",
            "25/25 [==============================] - 4s 141ms/step - loss: 0.0272 - acc: 0.9914 - val_loss: 0.0035 - val_acc: 0.9990\n",
            "Epoch 32/150\n",
            "25/25 [==============================] - 4s 142ms/step - loss: 0.0263 - acc: 0.9923 - val_loss: 0.0024 - val_acc: 0.9990\n",
            "Epoch 33/150\n",
            "25/25 [==============================] - 4s 141ms/step - loss: 0.0181 - acc: 0.9924 - val_loss: 0.0041 - val_acc: 0.9990\n",
            "Epoch 34/150\n",
            "25/25 [==============================] - 4s 141ms/step - loss: 0.0144 - acc: 0.9961 - val_loss: 0.0012 - val_acc: 1.0000\n",
            "Epoch 35/150\n",
            "25/25 [==============================] - 4s 142ms/step - loss: 0.0264 - acc: 0.9911 - val_loss: 0.0021 - val_acc: 0.9990\n",
            "Epoch 36/150\n",
            "25/25 [==============================] - 4s 141ms/step - loss: 0.0257 - acc: 0.9920 - val_loss: 0.0019 - val_acc: 0.9990\n",
            "Epoch 37/150\n",
            "25/25 [==============================] - 4s 141ms/step - loss: 0.0260 - acc: 0.9907 - val_loss: 0.0029 - val_acc: 1.0000\n",
            "Epoch 38/150\n",
            "25/25 [==============================] - 4s 141ms/step - loss: 0.0359 - acc: 0.9881 - val_loss: 0.0027 - val_acc: 0.9980\n",
            "Epoch 39/150\n",
            "25/25 [==============================] - 4s 142ms/step - loss: 0.0371 - acc: 0.9894 - val_loss: 0.0015 - val_acc: 1.0000\n",
            "Epoch 40/150\n",
            "25/25 [==============================] - 4s 142ms/step - loss: 0.0187 - acc: 0.9937 - val_loss: 0.0021 - val_acc: 0.9990\n",
            "Epoch 41/150\n",
            "25/25 [==============================] - 4s 141ms/step - loss: 0.0216 - acc: 0.9935 - val_loss: 0.0012 - val_acc: 1.0000\n",
            "Epoch 42/150\n",
            "25/25 [==============================] - 4s 141ms/step - loss: 0.0152 - acc: 0.9960 - val_loss: 0.0014 - val_acc: 1.0000\n",
            "Epoch 43/150\n",
            "25/25 [==============================] - 4s 141ms/step - loss: 0.0195 - acc: 0.9931 - val_loss: 6.3464e-04 - val_acc: 1.0000\n",
            "Epoch 44/150\n",
            "25/25 [==============================] - 4s 141ms/step - loss: 0.0184 - acc: 0.9939 - val_loss: 6.8403e-04 - val_acc: 1.0000\n",
            "Epoch 45/150\n",
            "25/25 [==============================] - 4s 141ms/step - loss: 0.0296 - acc: 0.9937 - val_loss: 0.0015 - val_acc: 1.0000\n",
            "Epoch 46/150\n",
            "25/25 [==============================] - 4s 142ms/step - loss: 0.0180 - acc: 0.9947 - val_loss: 0.0016 - val_acc: 0.9990\n",
            "Epoch 47/150\n",
            "25/25 [==============================] - 4s 141ms/step - loss: 0.0260 - acc: 0.9931 - val_loss: 0.0019 - val_acc: 1.0000\n",
            "Epoch 48/150\n",
            "25/25 [==============================] - 4s 142ms/step - loss: 0.0084 - acc: 0.9982 - val_loss: 0.0038 - val_acc: 0.9990\n",
            "Epoch 49/150\n",
            "25/25 [==============================] - 4s 141ms/step - loss: 0.0138 - acc: 0.9954 - val_loss: 4.7088e-04 - val_acc: 1.0000\n",
            "Epoch 50/150\n",
            "25/25 [==============================] - 4s 141ms/step - loss: 0.0136 - acc: 0.9966 - val_loss: 4.6787e-04 - val_acc: 1.0000\n",
            "Epoch 51/150\n",
            "25/25 [==============================] - 4s 141ms/step - loss: 0.0114 - acc: 0.9976 - val_loss: 5.4500e-04 - val_acc: 1.0000\n",
            "Epoch 52/150\n",
            "25/25 [==============================] - 4s 141ms/step - loss: 0.0077 - acc: 0.9976 - val_loss: 2.5108e-04 - val_acc: 1.0000\n",
            "Epoch 53/150\n",
            "25/25 [==============================] - 4s 141ms/step - loss: 0.0126 - acc: 0.9957 - val_loss: 6.2559e-04 - val_acc: 1.0000\n",
            "Epoch 54/150\n",
            "25/25 [==============================] - 4s 141ms/step - loss: 0.0145 - acc: 0.9946 - val_loss: 3.0637e-04 - val_acc: 1.0000\n",
            "Epoch 55/150\n",
            "25/25 [==============================] - 4s 141ms/step - loss: 0.0141 - acc: 0.9940 - val_loss: 0.0013 - val_acc: 0.9990\n",
            "Epoch 56/150\n",
            "25/25 [==============================] - 4s 142ms/step - loss: 0.0100 - acc: 0.9964 - val_loss: 3.4083e-04 - val_acc: 1.0000\n",
            "Epoch 57/150\n",
            "25/25 [==============================] - 4s 142ms/step - loss: 0.0123 - acc: 0.9953 - val_loss: 3.0103e-04 - val_acc: 1.0000\n",
            "Epoch 58/150\n",
            "25/25 [==============================] - 4s 141ms/step - loss: 0.0167 - acc: 0.9951 - val_loss: 5.2742e-04 - val_acc: 1.0000\n",
            "Epoch 59/150\n",
            "25/25 [==============================] - 4s 142ms/step - loss: 0.0231 - acc: 0.9938 - val_loss: 0.0020 - val_acc: 0.9990\n",
            "Epoch 60/150\n",
            "25/25 [==============================] - 4s 141ms/step - loss: 0.0392 - acc: 0.9926 - val_loss: 0.0022 - val_acc: 1.0000\n",
            "Epoch 61/150\n",
            "25/25 [==============================] - 4s 141ms/step - loss: 0.0218 - acc: 0.9953 - val_loss: 4.1383e-04 - val_acc: 1.0000\n",
            "Epoch 62/150\n",
            "25/25 [==============================] - 4s 142ms/step - loss: 0.0108 - acc: 0.9966 - val_loss: 2.3579e-04 - val_acc: 1.0000\n",
            "Epoch 63/150\n",
            "25/25 [==============================] - 4s 142ms/step - loss: 0.0124 - acc: 0.9966 - val_loss: 1.4571e-04 - val_acc: 1.0000\n",
            "Epoch 64/150\n",
            "25/25 [==============================] - 4s 142ms/step - loss: 0.0114 - acc: 0.9970 - val_loss: 5.7675e-04 - val_acc: 1.0000\n",
            "Epoch 65/150\n",
            "25/25 [==============================] - 4s 142ms/step - loss: 0.0147 - acc: 0.9938 - val_loss: 2.0016e-04 - val_acc: 1.0000\n",
            "Epoch 66/150\n",
            "25/25 [==============================] - 4s 142ms/step - loss: 0.0134 - acc: 0.9954 - val_loss: 1.6517e-04 - val_acc: 1.0000\n",
            "Epoch 67/150\n",
            "25/25 [==============================] - 4s 141ms/step - loss: 0.0152 - acc: 0.9956 - val_loss: 4.1229e-04 - val_acc: 1.0000\n",
            "Epoch 68/150\n",
            "25/25 [==============================] - 4s 142ms/step - loss: 0.0169 - acc: 0.9947 - val_loss: 3.4884e-04 - val_acc: 1.0000\n",
            "Epoch 69/150\n",
            "25/25 [==============================] - 4s 141ms/step - loss: 0.0107 - acc: 0.9963 - val_loss: 1.6231e-04 - val_acc: 1.0000\n",
            "Epoch 70/150\n",
            "25/25 [==============================] - 4s 141ms/step - loss: 0.0066 - acc: 0.9985 - val_loss: 2.6113e-04 - val_acc: 1.0000\n",
            "Epoch 71/150\n",
            "25/25 [==============================] - 4s 142ms/step - loss: 0.0173 - acc: 0.9950 - val_loss: 5.0150e-04 - val_acc: 1.0000\n",
            "Epoch 72/150\n",
            "25/25 [==============================] - 4s 142ms/step - loss: 0.0162 - acc: 0.9942 - val_loss: 2.7928e-04 - val_acc: 1.0000\n",
            "Epoch 73/150\n",
            "25/25 [==============================] - 4s 142ms/step - loss: 0.0054 - acc: 0.9985 - val_loss: 1.4955e-04 - val_acc: 1.0000\n",
            "Epoch 74/150\n",
            "25/25 [==============================] - 4s 142ms/step - loss: 0.0149 - acc: 0.9934 - val_loss: 0.0050 - val_acc: 0.9990\n",
            "Epoch 75/150\n",
            "25/25 [==============================] - 4s 141ms/step - loss: 0.0193 - acc: 0.9937 - val_loss: 1.3666e-04 - val_acc: 1.0000\n",
            "Epoch 76/150\n",
            "25/25 [==============================] - 4s 141ms/step - loss: 0.0234 - acc: 0.9951 - val_loss: 6.9222e-04 - val_acc: 1.0000\n",
            "Epoch 77/150\n",
            "25/25 [==============================] - 4s 142ms/step - loss: 0.0223 - acc: 0.9935 - val_loss: 0.0011 - val_acc: 1.0000\n",
            "Epoch 78/150\n",
            "25/25 [==============================] - 4s 141ms/step - loss: 0.0081 - acc: 0.9972 - val_loss: 1.6160e-04 - val_acc: 1.0000\n",
            "Epoch 79/150\n",
            "25/25 [==============================] - 4s 141ms/step - loss: 0.0139 - acc: 0.9947 - val_loss: 8.7040e-05 - val_acc: 1.0000\n",
            "Epoch 80/150\n",
            "25/25 [==============================] - 4s 141ms/step - loss: 0.0187 - acc: 0.9944 - val_loss: 3.6176e-04 - val_acc: 1.0000\n",
            "Epoch 81/150\n",
            "25/25 [==============================] - 4s 141ms/step - loss: 0.0252 - acc: 0.9939 - val_loss: 0.0015 - val_acc: 0.9990\n",
            "Epoch 82/150\n",
            "25/25 [==============================] - 4s 141ms/step - loss: 0.0176 - acc: 0.9944 - val_loss: 1.8967e-04 - val_acc: 1.0000\n",
            "Epoch 83/150\n",
            "25/25 [==============================] - 3s 140ms/step - loss: 0.0129 - acc: 0.9964 - val_loss: 4.0359e-05 - val_acc: 1.0000\n",
            "Epoch 84/150\n",
            "25/25 [==============================] - 3s 141ms/step - loss: 0.0091 - acc: 0.9969 - val_loss: 1.0506e-04 - val_acc: 1.0000\n",
            "Epoch 85/150\n",
            "25/25 [==============================] - 4s 141ms/step - loss: 0.0173 - acc: 0.9960 - val_loss: 2.6134e-04 - val_acc: 1.0000\n",
            "Epoch 86/150\n",
            "25/25 [==============================] - 4s 141ms/step - loss: 0.0201 - acc: 0.9941 - val_loss: 3.6718e-04 - val_acc: 1.0000\n",
            "Epoch 87/150\n",
            "25/25 [==============================] - 4s 141ms/step - loss: 0.0213 - acc: 0.9938 - val_loss: 2.5770e-04 - val_acc: 1.0000\n",
            "Epoch 88/150\n",
            "25/25 [==============================] - 4s 141ms/step - loss: 0.0084 - acc: 0.9977 - val_loss: 3.4662e-04 - val_acc: 1.0000\n",
            "Epoch 89/150\n",
            "25/25 [==============================] - 4s 141ms/step - loss: 0.0137 - acc: 0.9966 - val_loss: 1.2590e-04 - val_acc: 1.0000\n",
            "Epoch 90/150\n",
            "25/25 [==============================] - 4s 141ms/step - loss: 0.0067 - acc: 0.9984 - val_loss: 1.8594e-04 - val_acc: 1.0000\n",
            "Epoch 91/150\n",
            "25/25 [==============================] - 4s 141ms/step - loss: 0.0106 - acc: 0.9974 - val_loss: 1.5677e-04 - val_acc: 1.0000\n",
            "Epoch 92/150\n",
            "25/25 [==============================] - 4s 141ms/step - loss: 0.0166 - acc: 0.9960 - val_loss: 7.4814e-05 - val_acc: 1.0000\n",
            "Epoch 93/150\n",
            "25/25 [==============================] - 4s 141ms/step - loss: 0.0134 - acc: 0.9958 - val_loss: 2.0857e-04 - val_acc: 1.0000\n",
            "Epoch 94/150\n",
            "25/25 [==============================] - 4s 141ms/step - loss: 0.0117 - acc: 0.9964 - val_loss: 1.0203e-04 - val_acc: 1.0000\n",
            "Epoch 95/150\n",
            "25/25 [==============================] - 4s 141ms/step - loss: 0.0075 - acc: 0.9966 - val_loss: 5.2589e-05 - val_acc: 1.0000\n",
            "Epoch 96/150\n",
            "25/25 [==============================] - 4s 142ms/step - loss: 0.0112 - acc: 0.9953 - val_loss: 1.4057e-04 - val_acc: 1.0000\n",
            "Epoch 97/150\n",
            "25/25 [==============================] - 4s 141ms/step - loss: 0.0078 - acc: 0.9982 - val_loss: 2.7342e-05 - val_acc: 1.0000\n",
            "Epoch 98/150\n",
            "25/25 [==============================] - 4s 142ms/step - loss: 0.0064 - acc: 0.9983 - val_loss: 2.6756e-04 - val_acc: 1.0000\n",
            "Epoch 99/150\n",
            "25/25 [==============================] - 4s 141ms/step - loss: 0.0101 - acc: 0.9966 - val_loss: 7.4505e-05 - val_acc: 1.0000\n",
            "Epoch 100/150\n",
            "25/25 [==============================] - 4s 142ms/step - loss: 0.0066 - acc: 0.9979 - val_loss: 2.6551e-05 - val_acc: 1.0000\n",
            "Epoch 101/150\n",
            "25/25 [==============================] - 4s 142ms/step - loss: 0.0096 - acc: 0.9966 - val_loss: 5.6326e-05 - val_acc: 1.0000\n",
            "Epoch 102/150\n",
            "25/25 [==============================] - 4s 141ms/step - loss: 0.0055 - acc: 0.9978 - val_loss: 1.7700e-05 - val_acc: 1.0000\n",
            "Epoch 103/150\n",
            "25/25 [==============================] - 4s 142ms/step - loss: 0.0065 - acc: 0.9980 - val_loss: 5.5552e-06 - val_acc: 1.0000\n",
            "Epoch 104/150\n",
            "25/25 [==============================] - 4s 141ms/step - loss: 0.0078 - acc: 0.9971 - val_loss: 8.8142e-06 - val_acc: 1.0000\n",
            "Epoch 105/150\n",
            "25/25 [==============================] - 4s 142ms/step - loss: 0.0107 - acc: 0.9970 - val_loss: 5.4434e-05 - val_acc: 1.0000\n",
            "Epoch 106/150\n",
            "25/25 [==============================] - 4s 142ms/step - loss: 0.0161 - acc: 0.9944 - val_loss: 1.5251e-04 - val_acc: 1.0000\n",
            "Epoch 107/150\n",
            "25/25 [==============================] - 4s 142ms/step - loss: 0.0165 - acc: 0.9939 - val_loss: 8.0304e-05 - val_acc: 1.0000\n",
            "Epoch 108/150\n",
            "25/25 [==============================] - 4s 142ms/step - loss: 0.0111 - acc: 0.9964 - val_loss: 8.1279e-05 - val_acc: 1.0000\n",
            "Epoch 109/150\n",
            "25/25 [==============================] - 4s 142ms/step - loss: 0.0061 - acc: 0.9983 - val_loss: 1.2858e-04 - val_acc: 1.0000\n",
            "Epoch 110/150\n",
            "25/25 [==============================] - 4s 142ms/step - loss: 0.0097 - acc: 0.9958 - val_loss: 6.7018e-05 - val_acc: 1.0000\n",
            "Epoch 111/150\n",
            "25/25 [==============================] - 4s 142ms/step - loss: 0.0120 - acc: 0.9951 - val_loss: 4.0032e-04 - val_acc: 1.0000\n",
            "Epoch 112/150\n",
            "25/25 [==============================] - 4s 142ms/step - loss: 0.0143 - acc: 0.9966 - val_loss: 1.8253e-04 - val_acc: 1.0000\n",
            "Epoch 113/150\n",
            "25/25 [==============================] - 4s 142ms/step - loss: 0.0072 - acc: 0.9976 - val_loss: 9.3533e-05 - val_acc: 1.0000\n",
            "Epoch 114/150\n",
            "25/25 [==============================] - 4s 141ms/step - loss: 0.0133 - acc: 0.9962 - val_loss: 2.3101e-04 - val_acc: 1.0000\n",
            "Epoch 115/150\n",
            "25/25 [==============================] - 4s 142ms/step - loss: 0.0111 - acc: 0.9971 - val_loss: 8.1016e-05 - val_acc: 1.0000\n",
            "Epoch 116/150\n",
            "25/25 [==============================] - 4s 142ms/step - loss: 0.0066 - acc: 0.9974 - val_loss: 3.0690e-05 - val_acc: 1.0000\n",
            "Epoch 117/150\n",
            "25/25 [==============================] - 4s 143ms/step - loss: 0.0221 - acc: 0.9927 - val_loss: 1.2383e-04 - val_acc: 1.0000\n",
            "Epoch 118/150\n",
            "25/25 [==============================] - 4s 142ms/step - loss: 0.0084 - acc: 0.9976 - val_loss: 6.1119e-05 - val_acc: 1.0000\n",
            "Epoch 119/150\n",
            "25/25 [==============================] - 4s 142ms/step - loss: 0.0135 - acc: 0.9969 - val_loss: 6.3923e-05 - val_acc: 1.0000\n",
            "Epoch 120/150\n",
            "25/25 [==============================] - 4s 141ms/step - loss: 0.0056 - acc: 0.9981 - val_loss: 9.7317e-05 - val_acc: 1.0000\n",
            "Epoch 121/150\n",
            "25/25 [==============================] - 4s 141ms/step - loss: 0.0092 - acc: 0.9979 - val_loss: 7.9715e-05 - val_acc: 1.0000\n",
            "Epoch 122/150\n",
            "25/25 [==============================] - 4s 142ms/step - loss: 0.0075 - acc: 0.9980 - val_loss: 9.9164e-06 - val_acc: 1.0000\n",
            "Epoch 123/150\n",
            "25/25 [==============================] - 4s 141ms/step - loss: 0.0083 - acc: 0.9985 - val_loss: 2.5703e-05 - val_acc: 1.0000\n",
            "Epoch 124/150\n",
            "25/25 [==============================] - 4s 142ms/step - loss: 0.0086 - acc: 0.9959 - val_loss: 4.9002e-04 - val_acc: 1.0000\n",
            "Epoch 125/150\n",
            "25/25 [==============================] - 4s 142ms/step - loss: 0.0116 - acc: 0.9972 - val_loss: 3.7259e-05 - val_acc: 1.0000\n",
            "Epoch 126/150\n",
            "25/25 [==============================] - 4s 141ms/step - loss: 0.0148 - acc: 0.9962 - val_loss: 4.4430e-05 - val_acc: 1.0000\n",
            "Epoch 127/150\n",
            "25/25 [==============================] - 4s 141ms/step - loss: 0.0092 - acc: 0.9973 - val_loss: 6.4432e-05 - val_acc: 1.0000\n",
            "Epoch 128/150\n",
            "25/25 [==============================] - 3s 140ms/step - loss: 0.0080 - acc: 0.9978 - val_loss: 1.4237e-04 - val_acc: 1.0000\n",
            "Epoch 129/150\n",
            "25/25 [==============================] - 4s 141ms/step - loss: 0.0150 - acc: 0.9960 - val_loss: 4.7086e-05 - val_acc: 1.0000\n",
            "Epoch 130/150\n",
            "25/25 [==============================] - 4s 142ms/step - loss: 0.0199 - acc: 0.9947 - val_loss: 2.0609e-04 - val_acc: 1.0000\n",
            "Epoch 131/150\n",
            "25/25 [==============================] - 4s 142ms/step - loss: 0.0136 - acc: 0.9965 - val_loss: 5.9751e-05 - val_acc: 1.0000\n",
            "Epoch 132/150\n",
            "25/25 [==============================] - 4s 141ms/step - loss: 0.0108 - acc: 0.9964 - val_loss: 2.6185e-05 - val_acc: 1.0000\n",
            "Epoch 133/150\n",
            "25/25 [==============================] - 4s 141ms/step - loss: 0.0094 - acc: 0.9977 - val_loss: 2.2005e-04 - val_acc: 1.0000\n",
            "Epoch 134/150\n",
            "25/25 [==============================] - 4s 141ms/step - loss: 0.0062 - acc: 0.9983 - val_loss: 3.1018e-04 - val_acc: 1.0000\n",
            "Epoch 135/150\n",
            "25/25 [==============================] - 4s 141ms/step - loss: 0.0138 - acc: 0.9955 - val_loss: 7.2907e-05 - val_acc: 1.0000\n",
            "Epoch 136/150\n",
            "25/25 [==============================] - 4s 141ms/step - loss: 0.0075 - acc: 0.9979 - val_loss: 3.3083e-04 - val_acc: 1.0000\n",
            "Epoch 137/150\n",
            "25/25 [==============================] - 4s 142ms/step - loss: 0.0053 - acc: 0.9983 - val_loss: 5.2277e-05 - val_acc: 1.0000\n",
            "Epoch 138/150\n",
            "25/25 [==============================] - 4s 141ms/step - loss: 0.0112 - acc: 0.9975 - val_loss: 5.4887e-05 - val_acc: 1.0000\n",
            "Epoch 139/150\n",
            "25/25 [==============================] - 4s 141ms/step - loss: 0.0106 - acc: 0.9965 - val_loss: 1.3003e-04 - val_acc: 1.0000\n",
            "Epoch 140/150\n",
            "25/25 [==============================] - 4s 141ms/step - loss: 0.0175 - acc: 0.9949 - val_loss: 6.5266e-05 - val_acc: 1.0000\n",
            "Epoch 141/150\n",
            "25/25 [==============================] - 4s 141ms/step - loss: 0.0100 - acc: 0.9977 - val_loss: 3.8712e-05 - val_acc: 1.0000\n",
            "Epoch 142/150\n",
            "25/25 [==============================] - 4s 141ms/step - loss: 0.0093 - acc: 0.9970 - val_loss: 4.7838e-05 - val_acc: 1.0000\n",
            "Epoch 143/150\n",
            "25/25 [==============================] - 4s 142ms/step - loss: 0.0086 - acc: 0.9982 - val_loss: 4.5320e-05 - val_acc: 1.0000\n",
            "Epoch 144/150\n",
            "25/25 [==============================] - 4s 141ms/step - loss: 0.0204 - acc: 0.9958 - val_loss: 3.2968e-05 - val_acc: 1.0000\n",
            "Epoch 145/150\n",
            "25/25 [==============================] - 4s 141ms/step - loss: 0.0132 - acc: 0.9963 - val_loss: 2.1332e-05 - val_acc: 1.0000\n",
            "Epoch 146/150\n",
            "25/25 [==============================] - 4s 141ms/step - loss: 0.0210 - acc: 0.9948 - val_loss: 4.0036e-05 - val_acc: 1.0000\n",
            "Epoch 147/150\n",
            "25/25 [==============================] - 4s 141ms/step - loss: 0.0186 - acc: 0.9955 - val_loss: 7.0741e-05 - val_acc: 1.0000\n",
            "Epoch 148/150\n",
            "25/25 [==============================] - 3s 141ms/step - loss: 0.0105 - acc: 0.9962 - val_loss: 1.7650e-04 - val_acc: 1.0000\n",
            "Epoch 149/150\n",
            "25/25 [==============================] - 4s 141ms/step - loss: 0.0087 - acc: 0.9979 - val_loss: 3.3018e-04 - val_acc: 1.0000\n",
            "Epoch 150/150\n",
            "25/25 [==============================] - 4s 141ms/step - loss: 0.0067 - acc: 0.9978 - val_loss: 4.1098e-05 - val_acc: 1.0000\n",
            "32/32 [==============================] - 1s 16ms/step - loss: 0.0291 - acc: 0.9920\n",
            "\n",
            "Test Loss : 0.0291 Test Accuracy : 0.9920\n"
          ],
          "name": "stdout"
        },
        {
          "output_type": "display_data",
          "data": {
            "image/png": "[encoded data removed]",
            "text/plain": [
              "<Figure size 432x288 with 1 Axes>"
            ]
          },
          "metadata": {
            "tags": [],
            "needs_background": "light"
          }
        },
        {
          "output_type": "display_data",
          "data": {
            "image/png": "[encoded data removed]",
            "text/plain": [
              "<Figure size 432x288 with 1 Axes>"
            ]
          },
          "metadata": {
            "tags": [],
            "needs_background": "light"
          }
        }
      ]
    },
    {
      "cell_type": "code",
      "metadata": {
        "id": "RJPUTjcU9EEH"
      },
      "source": [
        ""
      ],
      "execution_count": null,
      "outputs": []
    }
  ]
}