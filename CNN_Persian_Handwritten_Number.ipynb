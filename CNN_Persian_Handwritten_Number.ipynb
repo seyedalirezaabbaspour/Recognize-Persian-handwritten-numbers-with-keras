{
 "cells": [
  {
   "cell_type": "markdown",
   "metadata": {},
   "source": [
    "#  Convolutional Neural Network"
   ]
  },
  {
   "cell_type": "code",
   "execution_count": 1,
   "metadata": {},
   "outputs": [],
   "source": [
    "import keras \n",
    "from keras import layers\n",
    "from keras.models import Sequential\n",
    "from keras.layers import Dense, Dropout, Activation, Conv2D, MaxPool2D, Flatten\n",
    "from keras.optimizers import Adam\n",
    "import numpy as np\n",
    "import matplotlib.pyplot as plt\n",
    "\n",
    "from dataset_hoda import load_hoda"
   ]
  },
  {
   "cell_type": "code",
   "execution_count": 2,
   "metadata": {},
   "outputs": [],
   "source": [
    "#load dataset\n",
    "X_train_original, y_train_original, X_test_original, y_test_original = load_hoda(training_sample_size=5000,\n",
    "                                                                                 test_sample_size=1000,\n",
    "                                                                                 size = 28)"
   ]
  },
  {
   "cell_type": "code",
   "execution_count": 17,
   "metadata": {},
   "outputs": [],
   "source": [
    "#preprocessing\n",
    "\n",
    "''' input data in numpy array format'''\n",
    "X_train = np.array(X_train_original)\n",
    "X_test = np.array(X_test_original)\n",
    "\n",
    "\n",
    "''' normalize our data values to the range [0, 1]'''\n",
    "X_train = X_train.astype(\"float32\")\n",
    "X_test = X_test.astype(\"float32\")\n",
    "\n",
    "X_train = X_train/ 255.0\n",
    "X_test = X_test  / 255.0\n",
    "\n",
    "# Reshape to original image shape (n x 784)  ==> (n x 28 x 28 x 1)\n",
    "X_train = X_train.reshape(-1, 28, 28, 1)\n",
    "X_test = X_test.reshape(-1, 28, 28, 1)\n",
    "\n",
    "# preprocessing class labels\n",
    "y_train = keras.utils.to_categorical(y_train_original)\n",
    "y_test = keras.utils.to_categorical(y_test_original)"
   ]
  },
  {
   "cell_type": "code",
   "execution_count": 4,
   "metadata": {},
   "outputs": [],
   "source": [
    "# test and validation set\n",
    "X_validation = X_train[:1000]\n",
    "y_validation = y_train[:1000]\n",
    "\n",
    "X_train = X_train[1000:]\n",
    "y_train = y_train[1000:]"
   ]
  },
  {
   "cell_type": "code",
   "execution_count": 13,
   "metadata": {},
   "outputs": [
    {
     "name": "stdout",
     "output_type": "stream",
     "text": [
      "Model: \"sequential_2\"\n",
      "_________________________________________________________________\n",
      "Layer (type)                 Output Shape              Param #   \n",
      "=================================================================\n",
      "conv2d_6 (Conv2D)            (None, 28, 28, 32)        160       \n",
      "_________________________________________________________________\n",
      "max_pooling2d_4 (MaxPooling2 (None, 14, 14, 32)        0         \n",
      "_________________________________________________________________\n",
      "dropout_6 (Dropout)          (None, 14, 14, 32)        0         \n",
      "_________________________________________________________________\n",
      "conv2d_7 (Conv2D)            (None, 14, 14, 64)        8256      \n",
      "_________________________________________________________________\n",
      "max_pooling2d_5 (MaxPooling2 (None, 7, 7, 64)          0         \n",
      "_________________________________________________________________\n",
      "dropout_7 (Dropout)          (None, 7, 7, 64)          0         \n",
      "_________________________________________________________________\n",
      "conv2d_8 (Conv2D)            (None, 7, 7, 128)         32896     \n",
      "_________________________________________________________________\n",
      "flatten_2 (Flatten)          (None, 6272)              0         \n",
      "_________________________________________________________________\n",
      "dense_4 (Dense)              (None, 128)               802944    \n",
      "_________________________________________________________________\n",
      "dropout_8 (Dropout)          (None, 128)               0         \n",
      "_________________________________________________________________\n",
      "dense_5 (Dense)              (None, 10)                1290      \n",
      "=================================================================\n",
      "Total params: 845,546\n",
      "Trainable params: 845,546\n",
      "Non-trainable params: 0\n",
      "_________________________________________________________________\n"
     ]
    }
   ],
   "source": [
    "# 5. Define model architecture\n",
    "\n",
    "model = Sequential()\n",
    "model.add(Conv2D(32, (2, 2),activation = \"relu\", padding = \"same\" , input_shape = (28, 28, 1)))\n",
    "model.add(MaxPool2D(2, 2))\n",
    "model.add(Dropout(0.5))\n",
    "model.add(Conv2D(64, (2, 2), activation = \"relu\", padding=\"same\"))\n",
    "model.add(MaxPool2D(2, 2))\n",
    "model.add(Dropout(0.5))\n",
    "model.add(Conv2D(128, (2, 2), activation=\"relu\", padding= \"same\"))\n",
    "model.add(Flatten())\n",
    "model.add(Dense(128, activation=\"relu\"))\n",
    "model.add(Dropout(0.5))\n",
    "model.add(Dense(10, activation=\"softmax\"))\n",
    "model.summary()"
   ]
  },
  {
   "cell_type": "code",
   "execution_count": 14,
   "metadata": {},
   "outputs": [],
   "source": [
    "# Compile Model\n",
    "adam = Adam(lr = 0.003)\n",
    "model.compile(loss = \"categorical_crossentropy\", optimizer=adam, metrics=[\"acc\"])"
   ]
  },
  {
   "cell_type": "code",
   "execution_count": 15,
   "metadata": {},
   "outputs": [
    {
     "name": "stdout",
     "output_type": "stream",
     "text": [
      "Epoch 1/100\n",
      "16/16 [==============================] - 6s 343ms/step - loss: 1.6225 - acc: 0.4150 - val_loss: 0.4029 - val_acc: 0.8940\n",
      "Epoch 2/100\n",
      "16/16 [==============================] - 6s 363ms/step - loss: 0.4482 - acc: 0.8497 - val_loss: 0.1982 - val_acc: 0.9410\n",
      "Epoch 3/100\n",
      "16/16 [==============================] - 6s 354ms/step - loss: 0.2799 - acc: 0.9048 - val_loss: 0.1509 - val_acc: 0.9590\n",
      "Epoch 4/100\n",
      "16/16 [==============================] - 6s 402ms/step - loss: 0.1862 - acc: 0.9367 - val_loss: 0.1080 - val_acc: 0.9690\n",
      "Epoch 5/100\n",
      "16/16 [==============================] - 6s 356ms/step - loss: 0.1625 - acc: 0.9455 - val_loss: 0.0972 - val_acc: 0.9740\n",
      "Epoch 6/100\n",
      "16/16 [==============================] - 6s 348ms/step - loss: 0.1255 - acc: 0.9588 - val_loss: 0.0882 - val_acc: 0.9790\n",
      "Epoch 7/100\n",
      "16/16 [==============================] - 5s 328ms/step - loss: 0.1154 - acc: 0.9604 - val_loss: 0.0736 - val_acc: 0.9740\n",
      "Epoch 8/100\n",
      "16/16 [==============================] - 6s 353ms/step - loss: 0.0911 - acc: 0.9671 - val_loss: 0.0720 - val_acc: 0.9740\n",
      "Epoch 9/100\n",
      "16/16 [==============================] - 5s 328ms/step - loss: 0.0806 - acc: 0.9730 - val_loss: 0.0789 - val_acc: 0.9720\n",
      "Epoch 10/100\n",
      "16/16 [==============================] - 5s 332ms/step - loss: 0.0970 - acc: 0.9630 - val_loss: 0.0657 - val_acc: 0.9800\n",
      "Epoch 11/100\n",
      "16/16 [==============================] - 6s 352ms/step - loss: 0.0779 - acc: 0.9764 - val_loss: 0.0695 - val_acc: 0.9790\n",
      "Epoch 12/100\n",
      "16/16 [==============================] - 6s 374ms/step - loss: 0.0719 - acc: 0.9746 - val_loss: 0.0641 - val_acc: 0.9790\n",
      "Epoch 13/100\n",
      "16/16 [==============================] - 6s 395ms/step - loss: 0.0642 - acc: 0.9793 - val_loss: 0.0606 - val_acc: 0.9780\n",
      "Epoch 14/100\n",
      "16/16 [==============================] - 6s 374ms/step - loss: 0.0612 - acc: 0.9786 - val_loss: 0.0553 - val_acc: 0.9810\n",
      "Epoch 15/100\n",
      "16/16 [==============================] - 6s 376ms/step - loss: 0.0592 - acc: 0.9820 - val_loss: 0.0571 - val_acc: 0.9790\n",
      "Epoch 16/100\n",
      "16/16 [==============================] - 6s 399ms/step - loss: 0.0433 - acc: 0.9863 - val_loss: 0.0614 - val_acc: 0.9800\n",
      "Epoch 17/100\n",
      "16/16 [==============================] - 6s 379ms/step - loss: 0.0483 - acc: 0.9845 - val_loss: 0.0541 - val_acc: 0.9810\n",
      "Epoch 18/100\n",
      "16/16 [==============================] - 5s 322ms/step - loss: 0.0409 - acc: 0.9854 - val_loss: 0.0641 - val_acc: 0.9830\n",
      "Epoch 19/100\n",
      "16/16 [==============================] - 6s 354ms/step - loss: 0.0689 - acc: 0.9785 - val_loss: 0.0486 - val_acc: 0.9800\n",
      "Epoch 20/100\n",
      "16/16 [==============================] - 6s 359ms/step - loss: 0.0423 - acc: 0.9839 - val_loss: 0.0499 - val_acc: 0.9830\n",
      "Epoch 21/100\n",
      "16/16 [==============================] - 6s 392ms/step - loss: 0.0429 - acc: 0.9834 - val_loss: 0.0526 - val_acc: 0.9800\n",
      "Epoch 22/100\n",
      "16/16 [==============================] - 6s 366ms/step - loss: 0.0352 - acc: 0.9871 - val_loss: 0.0494 - val_acc: 0.9830\n",
      "Epoch 23/100\n",
      "16/16 [==============================] - 6s 359ms/step - loss: 0.0455 - acc: 0.9835 - val_loss: 0.0510 - val_acc: 0.9850\n",
      "Epoch 24/100\n",
      "16/16 [==============================] - 5s 333ms/step - loss: 0.0406 - acc: 0.9851 - val_loss: 0.0411 - val_acc: 0.9830\n",
      "Epoch 25/100\n",
      "16/16 [==============================] - 5s 325ms/step - loss: 0.0494 - acc: 0.9814 - val_loss: 0.0438 - val_acc: 0.9850\n",
      "Epoch 26/100\n",
      "16/16 [==============================] - 5s 323ms/step - loss: 0.0302 - acc: 0.9875 - val_loss: 0.0458 - val_acc: 0.9880\n",
      "Epoch 27/100\n",
      "16/16 [==============================] - 5s 324ms/step - loss: 0.0381 - acc: 0.9870 - val_loss: 0.0447 - val_acc: 0.9820\n",
      "Epoch 28/100\n",
      "16/16 [==============================] - 5s 321ms/step - loss: 0.0292 - acc: 0.9893 - val_loss: 0.0541 - val_acc: 0.9800\n",
      "Epoch 29/100\n",
      "16/16 [==============================] - 5s 325ms/step - loss: 0.0329 - acc: 0.9866 - val_loss: 0.0554 - val_acc: 0.9800\n",
      "Epoch 30/100\n",
      "16/16 [==============================] - 5s 322ms/step - loss: 0.0263 - acc: 0.9908 - val_loss: 0.0654 - val_acc: 0.9810\n",
      "Epoch 31/100\n",
      "16/16 [==============================] - 5s 334ms/step - loss: 0.0421 - acc: 0.9882 - val_loss: 0.0535 - val_acc: 0.9850\n",
      "Epoch 32/100\n",
      "16/16 [==============================] - 6s 350ms/step - loss: 0.0350 - acc: 0.9855 - val_loss: 0.0569 - val_acc: 0.9800\n",
      "Epoch 33/100\n",
      "16/16 [==============================] - 5s 343ms/step - loss: 0.0362 - acc: 0.9880 - val_loss: 0.0505 - val_acc: 0.9820\n",
      "Epoch 34/100\n",
      "16/16 [==============================] - 6s 384ms/step - loss: 0.0406 - acc: 0.9832 - val_loss: 0.0622 - val_acc: 0.9830\n",
      "Epoch 35/100\n",
      "16/16 [==============================] - 6s 389ms/step - loss: 0.0389 - acc: 0.9879 - val_loss: 0.0625 - val_acc: 0.9850\n",
      "Epoch 36/100\n",
      "16/16 [==============================] - 6s 379ms/step - loss: 0.0228 - acc: 0.9929 - val_loss: 0.0633 - val_acc: 0.9800\n",
      "Epoch 37/100\n",
      "16/16 [==============================] - 6s 393ms/step - loss: 0.0348 - acc: 0.9863 - val_loss: 0.0520 - val_acc: 0.9850\n",
      "Epoch 38/100\n",
      "16/16 [==============================] - 6s 369ms/step - loss: 0.0298 - acc: 0.9907 - val_loss: 0.0491 - val_acc: 0.9830\n",
      "Epoch 39/100\n",
      "16/16 [==============================] - 6s 347ms/step - loss: 0.0215 - acc: 0.9927 - val_loss: 0.0622 - val_acc: 0.9850\n",
      "Epoch 40/100\n",
      "16/16 [==============================] - 6s 387ms/step - loss: 0.0266 - acc: 0.9917 - val_loss: 0.0624 - val_acc: 0.9830\n",
      "Epoch 41/100\n",
      "16/16 [==============================] - 6s 361ms/step - loss: 0.0265 - acc: 0.9887 - val_loss: 0.0747 - val_acc: 0.9820\n",
      "Epoch 42/100\n",
      "16/16 [==============================] - 6s 361ms/step - loss: 0.0286 - acc: 0.9890 - val_loss: 0.0574 - val_acc: 0.9810\n",
      "Epoch 43/100\n",
      "16/16 [==============================] - 6s 356ms/step - loss: 0.0318 - acc: 0.9890 - val_loss: 0.0582 - val_acc: 0.9840\n",
      "Epoch 44/100\n",
      "16/16 [==============================] - 5s 323ms/step - loss: 0.0204 - acc: 0.9928 - val_loss: 0.0506 - val_acc: 0.9850\n",
      "Epoch 45/100\n",
      "16/16 [==============================] - 5s 332ms/step - loss: 0.0250 - acc: 0.9924 - val_loss: 0.0608 - val_acc: 0.9850\n",
      "Epoch 46/100\n",
      "16/16 [==============================] - 5s 320ms/step - loss: 0.0369 - acc: 0.9873 - val_loss: 0.0620 - val_acc: 0.9800\n",
      "Epoch 47/100\n",
      "16/16 [==============================] - 5s 330ms/step - loss: 0.0229 - acc: 0.9919 - val_loss: 0.0490 - val_acc: 0.9850\n",
      "Epoch 48/100\n",
      "16/16 [==============================] - 5s 321ms/step - loss: 0.0184 - acc: 0.9938 - val_loss: 0.0586 - val_acc: 0.9840\n",
      "Epoch 49/100\n",
      "16/16 [==============================] - 5s 335ms/step - loss: 0.0296 - acc: 0.9900 - val_loss: 0.0437 - val_acc: 0.9860\n",
      "Epoch 50/100\n",
      "16/16 [==============================] - 5s 330ms/step - loss: 0.0290 - acc: 0.9881 - val_loss: 0.0520 - val_acc: 0.9820\n",
      "Epoch 51/100\n",
      "16/16 [==============================] - 6s 407ms/step - loss: 0.0267 - acc: 0.9904 - val_loss: 0.0465 - val_acc: 0.9860\n",
      "Epoch 52/100\n",
      "16/16 [==============================] - 6s 397ms/step - loss: 0.0258 - acc: 0.9911 - val_loss: 0.0484 - val_acc: 0.9850\n",
      "Epoch 53/100\n",
      "16/16 [==============================] - 6s 380ms/step - loss: 0.0189 - acc: 0.9925 - val_loss: 0.0584 - val_acc: 0.9810\n",
      "Epoch 54/100\n",
      "16/16 [==============================] - 6s 391ms/step - loss: 0.0275 - acc: 0.9903 - val_loss: 0.0572 - val_acc: 0.9810\n",
      "Epoch 55/100\n",
      "16/16 [==============================] - 6s 358ms/step - loss: 0.0288 - acc: 0.9908 - val_loss: 0.0485 - val_acc: 0.9820\n",
      "Epoch 56/100\n",
      "16/16 [==============================] - 6s 375ms/step - loss: 0.0188 - acc: 0.9937 - val_loss: 0.0537 - val_acc: 0.9850\n",
      "Epoch 57/100\n",
      "16/16 [==============================] - 6s 362ms/step - loss: 0.0140 - acc: 0.9952 - val_loss: 0.0515 - val_acc: 0.9880\n",
      "Epoch 58/100\n",
      "16/16 [==============================] - 6s 363ms/step - loss: 0.0209 - acc: 0.9921 - val_loss: 0.0561 - val_acc: 0.9840\n",
      "Epoch 59/100\n",
      "16/16 [==============================] - 6s 395ms/step - loss: 0.0114 - acc: 0.9967 - val_loss: 0.0688 - val_acc: 0.9850\n",
      "Epoch 60/100\n",
      "16/16 [==============================] - 6s 375ms/step - loss: 0.0264 - acc: 0.9925 - val_loss: 0.0347 - val_acc: 0.9880\n",
      "Epoch 61/100\n",
      "16/16 [==============================] - 6s 357ms/step - loss: 0.0295 - acc: 0.9937 - val_loss: 0.0440 - val_acc: 0.9850\n",
      "Epoch 62/100\n"
     ]
    },
    {
     "name": "stdout",
     "output_type": "stream",
     "text": [
      "16/16 [==============================] - 6s 364ms/step - loss: 0.0200 - acc: 0.9914 - val_loss: 0.0476 - val_acc: 0.9850\n",
      "Epoch 63/100\n",
      "16/16 [==============================] - 5s 337ms/step - loss: 0.0193 - acc: 0.9940 - val_loss: 0.0487 - val_acc: 0.9870\n",
      "Epoch 64/100\n",
      "16/16 [==============================] - 5s 319ms/step - loss: 0.0108 - acc: 0.9965 - val_loss: 0.0575 - val_acc: 0.9860\n",
      "Epoch 65/100\n",
      "16/16 [==============================] - 5s 318ms/step - loss: 0.0164 - acc: 0.9927 - val_loss: 0.0538 - val_acc: 0.9870\n",
      "Epoch 66/100\n",
      "16/16 [==============================] - 6s 396ms/step - loss: 0.0142 - acc: 0.9956 - val_loss: 0.0600 - val_acc: 0.9870\n",
      "Epoch 67/100\n",
      "16/16 [==============================] - 6s 370ms/step - loss: 0.0175 - acc: 0.9937 - val_loss: 0.0559 - val_acc: 0.9860\n",
      "Epoch 68/100\n",
      "16/16 [==============================] - 6s 374ms/step - loss: 0.0113 - acc: 0.9977 - val_loss: 0.0513 - val_acc: 0.9880\n",
      "Epoch 69/100\n",
      "16/16 [==============================] - 6s 356ms/step - loss: 0.0196 - acc: 0.9949 - val_loss: 0.0548 - val_acc: 0.9820\n",
      "Epoch 70/100\n",
      "16/16 [==============================] - 5s 318ms/step - loss: 0.0234 - acc: 0.9928 - val_loss: 0.0496 - val_acc: 0.9860\n",
      "Epoch 71/100\n",
      "16/16 [==============================] - 5s 339ms/step - loss: 0.0136 - acc: 0.9956 - val_loss: 0.0497 - val_acc: 0.9860\n",
      "Epoch 72/100\n",
      "16/16 [==============================] - 6s 350ms/step - loss: 0.0138 - acc: 0.9946 - val_loss: 0.0468 - val_acc: 0.9850\n",
      "Epoch 73/100\n",
      "16/16 [==============================] - 6s 371ms/step - loss: 0.0284 - acc: 0.9915 - val_loss: 0.0452 - val_acc: 0.9840\n",
      "Epoch 74/100\n",
      "16/16 [==============================] - 6s 373ms/step - loss: 0.0140 - acc: 0.9943 - val_loss: 0.0498 - val_acc: 0.9820\n",
      "Epoch 75/100\n",
      "16/16 [==============================] - 6s 362ms/step - loss: 0.0172 - acc: 0.9938 - val_loss: 0.0540 - val_acc: 0.9870\n",
      "Epoch 76/100\n",
      "16/16 [==============================] - 6s 359ms/step - loss: 0.0123 - acc: 0.9954 - val_loss: 0.0589 - val_acc: 0.9870\n",
      "Epoch 77/100\n",
      "16/16 [==============================] - 6s 381ms/step - loss: 0.0205 - acc: 0.9954 - val_loss: 0.0536 - val_acc: 0.9860\n",
      "Epoch 78/100\n",
      "16/16 [==============================] - 7s 431ms/step - loss: 0.0184 - acc: 0.9944 - val_loss: 0.0509 - val_acc: 0.9860\n",
      "Epoch 79/100\n",
      "16/16 [==============================] - 6s 357ms/step - loss: 0.0176 - acc: 0.9947 - val_loss: 0.0612 - val_acc: 0.9860\n",
      "Epoch 80/100\n",
      "16/16 [==============================] - 6s 365ms/step - loss: 0.0153 - acc: 0.9945 - val_loss: 0.0409 - val_acc: 0.9910\n",
      "Epoch 81/100\n",
      "16/16 [==============================] - 6s 358ms/step - loss: 0.0183 - acc: 0.9929 - val_loss: 0.0614 - val_acc: 0.9860\n",
      "Epoch 82/100\n",
      "16/16 [==============================] - 6s 360ms/step - loss: 0.0188 - acc: 0.9924 - val_loss: 0.0623 - val_acc: 0.9860\n",
      "Epoch 83/100\n",
      "16/16 [==============================] - 6s 369ms/step - loss: 0.0154 - acc: 0.9954 - val_loss: 0.0589 - val_acc: 0.9850\n",
      "Epoch 84/100\n",
      "16/16 [==============================] - 6s 345ms/step - loss: 0.0125 - acc: 0.9962 - val_loss: 0.0433 - val_acc: 0.9900\n",
      "Epoch 85/100\n",
      "16/16 [==============================] - 5s 328ms/step - loss: 0.0268 - acc: 0.9936 - val_loss: 0.0459 - val_acc: 0.9870\n",
      "Epoch 86/100\n",
      "16/16 [==============================] - 6s 352ms/step - loss: 0.0201 - acc: 0.9922 - val_loss: 0.0474 - val_acc: 0.9850\n",
      "Epoch 87/100\n",
      "16/16 [==============================] - 5s 344ms/step - loss: 0.0166 - acc: 0.9923 - val_loss: 0.0491 - val_acc: 0.9850\n",
      "Epoch 88/100\n",
      "16/16 [==============================] - 6s 346ms/step - loss: 0.0182 - acc: 0.9938 - val_loss: 0.0598 - val_acc: 0.9850\n",
      "Epoch 89/100\n",
      "16/16 [==============================] - 6s 344ms/step - loss: 0.0115 - acc: 0.9972 - val_loss: 0.0511 - val_acc: 0.9870\n",
      "Epoch 90/100\n",
      "16/16 [==============================] - 6s 364ms/step - loss: 0.0148 - acc: 0.9948 - val_loss: 0.0506 - val_acc: 0.9850\n",
      "Epoch 91/100\n",
      "16/16 [==============================] - 5s 322ms/step - loss: 0.0190 - acc: 0.9924 - val_loss: 0.0502 - val_acc: 0.9860\n",
      "Epoch 92/100\n",
      "16/16 [==============================] - 5s 343ms/step - loss: 0.0132 - acc: 0.9968 - val_loss: 0.0414 - val_acc: 0.9880\n",
      "Epoch 93/100\n",
      "16/16 [==============================] - 5s 318ms/step - loss: 0.0210 - acc: 0.9939 - val_loss: 0.0329 - val_acc: 0.9900\n",
      "Epoch 94/100\n",
      "16/16 [==============================] - 5s 319ms/step - loss: 0.0183 - acc: 0.9955 - val_loss: 0.0385 - val_acc: 0.9890\n",
      "Epoch 95/100\n",
      "16/16 [==============================] - 6s 344ms/step - loss: 0.0127 - acc: 0.9957 - val_loss: 0.0444 - val_acc: 0.9880\n",
      "Epoch 96/100\n",
      "16/16 [==============================] - 6s 348ms/step - loss: 0.0182 - acc: 0.9930 - val_loss: 0.0470 - val_acc: 0.9860\n",
      "Epoch 97/100\n",
      "16/16 [==============================] - 5s 324ms/step - loss: 0.0147 - acc: 0.9965 - val_loss: 0.0355 - val_acc: 0.9890\n",
      "Epoch 98/100\n",
      "16/16 [==============================] - 5s 322ms/step - loss: 0.0189 - acc: 0.9940 - val_loss: 0.0461 - val_acc: 0.9860\n",
      "Epoch 99/100\n",
      "16/16 [==============================] - 5s 323ms/step - loss: 0.0218 - acc: 0.9917 - val_loss: 0.0682 - val_acc: 0.9850\n",
      "Epoch 100/100\n",
      "16/16 [==============================] - 5s 326ms/step - loss: 0.0300 - acc: 0.9900 - val_loss: 0.0401 - val_acc: 0.9880\n"
     ]
    }
   ],
   "source": [
    "# Fit Model on Training Data\n",
    "history = model.fit(X_train, y_train,\n",
    "          validation_data=(X_validation, y_validation),\n",
    "          shuffle=True, \n",
    "          epochs=100, \n",
    "          batch_size=256)"
   ]
  },
  {
   "cell_type": "code",
   "execution_count": 18,
   "metadata": {},
   "outputs": [
    {
     "name": "stdout",
     "output_type": "stream",
     "text": [
      "32/32 [==============================] - 0s 14ms/step - loss: 0.0916 - acc: 0.9800\n"
     ]
    }
   ],
   "source": [
    "#Evaluate Model\n",
    "loss, acc = model.evaluate(X_test, y_test)"
   ]
  },
  {
   "cell_type": "code",
   "execution_count": 21,
   "metadata": {},
   "outputs": [
    {
     "data": {
      "image/png": "[encoded data removed]",
      "text/plain": [
       "<Figure size 432x288 with 1 Axes>"
      ]
     },
     "metadata": {
      "needs_background": "light"
     },
     "output_type": "display_data"
    },
    {
     "data": {
      "image/png": "[encoded data removed]",
      "text/plain": [
       "<Figure size 432x288 with 1 Axes>"
      ]
     },
     "metadata": {
      "needs_background": "light"
     },
     "output_type": "display_data"
    }
   ],
   "source": [
    "acc = history.history[\"acc\"]\n",
    "val_acc = history.history[\"val_acc\"]\n",
    "\n",
    "loss = history.history[\"loss\"]\n",
    "val_loss = history.history[\"val_loss\"]\n",
    "\n",
    "epochs = range(len(acc))\n",
    "plt.plot(epochs, acc, \"bo\", label = \"Training Accuracy\")\n",
    "plt.plot(epochs, val_acc, \"b\", label = \"Validation Accuracy\")\n",
    "plt.title(\"Training and Validation Accuracy\")\n",
    "plt.legend()\n",
    "\n",
    "plt.figure()\n",
    "plt.plot(epochs, loss, \"bo\", label = \"Training Loss\")\n",
    "plt.plot(epochs, val_loss, \"b\", label = \"Validation Loss\")\n",
    "plt.title(\"Training and Validation Loss\")\n",
    "plt.legend()\n",
    "\n",
    "plt.show()"
   ]
  },
  {
   "cell_type": "code",
   "execution_count": null,
   "metadata": {},
   "outputs": [],
   "source": []
  }
 ],
 "metadata": {
  "kernelspec": {
   "display_name": "Python 3",
   "language": "python",
   "name": "python3"
  },
  "language_info": {
   "codemirror_mode": {
    "name": "ipython",
    "version": 3
   },
   "file_extension": ".py",
   "mimetype": "text/x-python",
   "name": "python",
   "nbconvert_exporter": "python",
   "pygments_lexer": "ipython3",
   "version": "3.7.4"
  }
 },
 "nbformat": 4,
 "nbformat_minor": 2
}
